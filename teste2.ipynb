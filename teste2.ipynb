{
 "cells": [
  {
   "cell_type": "code",
   "execution_count": null,
   "metadata": {},
   "outputs": [],
   "source": [
    "import pandas as pd\n",
    "import numpy as np"
   ]
  },
  {
   "cell_type": "code",
   "execution_count": null,
   "metadata": {},
   "outputs": [],
   "source": [
    "df=pd.read_csv(\"jogadores.csv\")"
   ]
  },
  {
   "cell_type": "code",
   "execution_count": null,
   "metadata": {},
   "outputs": [],
   "source": [
    "df"
   ]
  },
  {
   "cell_type": "code",
   "execution_count": null,
   "metadata": {},
   "outputs": [],
   "source": [
    "# df[[\"Jogo 1\",\"Jogo 2\", \"Jogo 3\", \"Jogo 4\", \"Pontos\"]]=0"
   ]
  },
  {
   "cell_type": "code",
   "execution_count": null,
   "metadata": {},
   "outputs": [],
   "source": [
    "df1=df.sample(8)\n",
    "df.drop(df1.index,inplace=True)\n",
    "df2=df.sample(8)\n",
    "df.drop(df2.index,inplace=True)\n",
    "df3=df.sample(8)\n",
    "df.drop(df3.index,inplace=True)\n",
    "df4=df.sample(8)\n",
    "df.drop(df4.index,inplace=True)\n",
    "df5=df.sample(8)\n",
    "df.drop(df5.index,inplace=True)\n",
    "df6=df.sample(8)\n",
    "df.drop(df6.index,inplace=True)\n",
    "df7=df.sample(8)\n",
    "df.drop(df7.index,inplace=True)"
   ]
  },
  {
   "cell_type": "code",
   "execution_count": null,
   "metadata": {},
   "outputs": [],
   "source": [
    "df1.reset_index(drop=True,inplace=True)\n",
    "df1.index+=1\n",
    "df1"
   ]
  },
  {
   "cell_type": "code",
   "execution_count": null,
   "metadata": {},
   "outputs": [],
   "source": [
    "df2.reset_index(drop=True,inplace=True)\n",
    "df2.index+=1\n",
    "df2"
   ]
  },
  {
   "cell_type": "code",
   "execution_count": null,
   "metadata": {},
   "outputs": [],
   "source": [
    "df3.reset_index(drop=True,inplace=True)\n",
    "df3.index+=1\n",
    "df3"
   ]
  },
  {
   "cell_type": "code",
   "execution_count": null,
   "metadata": {},
   "outputs": [],
   "source": [
    "df4.reset_index(drop=True,inplace=True)\n",
    "df4.index+=1\n",
    "df4"
   ]
  },
  {
   "cell_type": "code",
   "execution_count": null,
   "metadata": {},
   "outputs": [],
   "source": [
    "df5.reset_index(drop=True,inplace=True)\n",
    "df5.index+=1\n",
    "df5"
   ]
  },
  {
   "cell_type": "code",
   "execution_count": null,
   "metadata": {},
   "outputs": [],
   "source": [
    "df6.reset_index(drop=True,inplace=True)\n",
    "df6.index+=1\n",
    "df6"
   ]
  },
  {
   "cell_type": "code",
   "execution_count": null,
   "metadata": {},
   "outputs": [],
   "source": [
    "df7.reset_index(drop=True,inplace=True)\n",
    "df7.index+=1\n",
    "df7"
   ]
  },
  {
   "cell_type": "code",
   "execution_count": null,
   "metadata": {},
   "outputs": [],
   "source": [
    "df1[[\"Jogo 1\",\"Jogo 2\",\"Jogo 3\",\"Jogo 4\",\"Pontos\"]]=0\n",
    "df2[[\"Jogo 1\",\"Jogo 2\",\"Jogo 3\",\"Jogo 4\",\"Pontos\"]]=0\n",
    "df3[[\"Jogo 1\",\"Jogo 2\",\"Jogo 3\",\"Jogo 4\",\"Pontos\"]]=0\n",
    "df4[[\"Jogo 1\",\"Jogo 2\",\"Jogo 3\",\"Jogo 4\",\"Pontos\"]]=0\n",
    "df5[[\"Jogo 1\",\"Jogo 2\",\"Jogo 3\",\"Jogo 4\",\"Pontos\"]]=0\n",
    "df6[[\"Jogo 1\",\"Jogo 2\",\"Jogo 3\",\"Jogo 4\",\"Pontos\"]]=0\n",
    "df7[[\"Jogo 1\",\"Jogo 2\",\"Jogo 3\",\"Jogo 4\",\"Pontos\"]]=0\n"
   ]
  },
  {
   "cell_type": "code",
   "execution_count": null,
   "metadata": {},
   "outputs": [],
   "source": [
    "df1.to_csv(\"j1_Rodada-1.csv\",index_label=False)\n",
    "df2.to_csv(\"j2_Rodada-1.csv\",index_label=False)\n",
    "df3.to_csv(\"j3_Rodada-1.csv\",index_label=False)\n",
    "df4.to_csv(\"j4_Rodada-1.csv\",index_label=False)\n",
    "df5.to_csv(\"j5_Rodada-1.csv\",index_label=False)\n",
    "df6.to_csv(\"j6_Rodada-1.csv\",index_label=False)\n",
    "df7.to_csv(\"j7_Rodada-1.csv\",index_label=False)"
   ]
  },
  {
   "cell_type": "code",
   "execution_count": null,
   "metadata": {},
   "outputs": [],
   "source": [
    "df_styled = df.style.background_gradient()"
   ]
  },
  {
   "cell_type": "code",
   "execution_count": null,
   "metadata": {},
   "outputs": [],
   "source": [
    "df1.export(df_styled,\"mytable.png\")\n"
   ]
  },
  {
   "cell_type": "code",
   "execution_count": null,
   "metadata": {},
   "outputs": [],
   "source": [
    "df1=pd.read_csv(\"j1_Rodada-1.csv\")\n",
    "df2=pd.read_csv(\"j2_Rodada-1.csv\")\n",
    "df3=pd.read_csv(\"j3_Rodada-1.csv\")\n",
    "df4=pd.read_csv(\"j4_Rodada-1.csv\")\n",
    "df5=pd.read_csv(\"j5_Rodada-1.csv\")\n",
    "df6=pd.read_csv(\"j6_Rodada-1.csv\")\n",
    "df7=pd.read_csv(\"j7_Rodada-1.csv\")"
   ]
  },
  {
   "cell_type": "code",
   "execution_count": null,
   "metadata": {},
   "outputs": [],
   "source": [
    "df_t=pd.concat([df1,df2,df3,df4,df5,df6,df7])"
   ]
  },
  {
   "cell_type": "code",
   "execution_count": null,
   "metadata": {},
   "outputs": [],
   "source": [
    "df_t.drop(\"Unnamed: 0\",axis=1,inplace=True)"
   ]
  },
  {
   "cell_type": "code",
   "execution_count": null,
   "metadata": {},
   "outputs": [],
   "source": [
    "df_t=df_t[[\"Nick\",\"Pontos\"]]"
   ]
  },
  {
   "cell_type": "code",
   "execution_count": null,
   "metadata": {},
   "outputs": [],
   "source": [
    "df_t.reset_index(inplace=True,drop=True)"
   ]
  },
  {
   "cell_type": "code",
   "execution_count": null,
   "metadata": {},
   "outputs": [],
   "source": [
    "df_t.index+=1"
   ]
  },
  {
   "cell_type": "code",
   "execution_count": null,
   "metadata": {},
   "outputs": [],
   "source": [
    "# df_t.Pontos = np.random.randint(4,40, size=len(df_t))"
   ]
  },
  {
   "cell_type": "code",
   "execution_count": null,
   "metadata": {},
   "outputs": [],
   "source": [
    "df_t=df_t.sort_values(\"Pontos\",ascending=False)"
   ]
  },
  {
   "cell_type": "code",
   "execution_count": null,
   "metadata": {},
   "outputs": [],
   "source": [
    "df_t[\"Pontos\"]=0"
   ]
  },
  {
   "cell_type": "code",
   "execution_count": 1,
   "metadata": {},
   "outputs": [
    {
     "ename": "NameError",
     "evalue": "name 'df_t' is not defined",
     "output_type": "error",
     "traceback": [
      "\u001b[1;31m---------------------------------------------------------------------------\u001b[0m",
      "\u001b[1;31mNameError\u001b[0m                                 Traceback (most recent call last)",
      "\u001b[1;32m~\\AppData\\Local\\Temp/ipykernel_11192/229832853.py\u001b[0m in \u001b[0;36m<module>\u001b[1;34m\u001b[0m\n\u001b[1;32m----> 1\u001b[1;33m \u001b[0mdf_t\u001b[0m\u001b[1;33m.\u001b[0m\u001b[0mto_csv\u001b[0m\u001b[1;33m(\u001b[0m\u001b[1;34m\"tabela.csv\"\u001b[0m\u001b[1;33m,\u001b[0m\u001b[0mindex\u001b[0m\u001b[1;33m=\u001b[0m\u001b[1;32mFalse\u001b[0m\u001b[1;33m)\u001b[0m\u001b[1;33m\u001b[0m\u001b[1;33m\u001b[0m\u001b[0m\n\u001b[0m",
      "\u001b[1;31mNameError\u001b[0m: name 'df_t' is not defined"
     ]
    }
   ],
   "source": [
    "df_t.to_csv(\"tabela.csv\",index=False)"
   ]
  },
  {
   "cell_type": "code",
   "execution_count": 1,
   "metadata": {},
   "outputs": [],
   "source": [
    "import pandas as pd\n",
    "import numpy as np"
   ]
  },
  {
   "cell_type": "code",
   "execution_count": null,
   "metadata": {},
   "outputs": [],
   "source": []
  },
  {
   "cell_type": "code",
   "execution_count": 2,
   "metadata": {},
   "outputs": [],
   "source": [
    "rdd1=pd.read_csv(\"rdd6.csv\",index_col=False)"
   ]
  },
  {
   "cell_type": "code",
   "execution_count": 3,
   "metadata": {},
   "outputs": [
    {
     "data": {
      "text/html": [
       "<div>\n",
       "<style scoped>\n",
       "    .dataframe tbody tr th:only-of-type {\n",
       "        vertical-align: middle;\n",
       "    }\n",
       "\n",
       "    .dataframe tbody tr th {\n",
       "        vertical-align: top;\n",
       "    }\n",
       "\n",
       "    .dataframe thead th {\n",
       "        text-align: right;\n",
       "    }\n",
       "</style>\n",
       "<table border=\"1\" class=\"dataframe\">\n",
       "  <thead>\n",
       "    <tr style=\"text-align: right;\">\n",
       "      <th></th>\n",
       "      <th>Nick</th>\n",
       "      <th>Pontos</th>\n",
       "    </tr>\n",
       "  </thead>\n",
       "  <tbody>\n",
       "    <tr>\n",
       "      <th>0</th>\n",
       "      <td>BES Midor1ya</td>\n",
       "      <td>182</td>\n",
       "    </tr>\n",
       "    <tr>\n",
       "      <th>1</th>\n",
       "      <td>BES Toddy</td>\n",
       "      <td>173</td>\n",
       "    </tr>\n",
       "    <tr>\n",
       "      <th>2</th>\n",
       "      <td>BEE Xiellendario</td>\n",
       "      <td>166</td>\n",
       "    </tr>\n",
       "    <tr>\n",
       "      <th>3</th>\n",
       "      <td>BEE Phelpz13</td>\n",
       "      <td>164</td>\n",
       "    </tr>\n",
       "    <tr>\n",
       "      <th>4</th>\n",
       "      <td>TMT Xaue</td>\n",
       "      <td>163</td>\n",
       "    </tr>\n",
       "    <tr>\n",
       "      <th>5</th>\n",
       "      <td>Miguel Arkjow</td>\n",
       "      <td>163</td>\n",
       "    </tr>\n",
       "    <tr>\n",
       "      <th>6</th>\n",
       "      <td>BES Vipi</td>\n",
       "      <td>162</td>\n",
       "    </tr>\n",
       "    <tr>\n",
       "      <th>7</th>\n",
       "      <td>FOUR Bieul</td>\n",
       "      <td>156</td>\n",
       "    </tr>\n",
       "    <tr>\n",
       "      <th>8</th>\n",
       "      <td>vMetangTTV</td>\n",
       "      <td>156</td>\n",
       "    </tr>\n",
       "    <tr>\n",
       "      <th>9</th>\n",
       "      <td>zzhcet</td>\n",
       "      <td>155</td>\n",
       "    </tr>\n",
       "    <tr>\n",
       "      <th>10</th>\n",
       "      <td>KDA Guiczar</td>\n",
       "      <td>155</td>\n",
       "    </tr>\n",
       "    <tr>\n",
       "      <th>11</th>\n",
       "      <td>Highroller Bnas</td>\n",
       "      <td>154</td>\n",
       "    </tr>\n",
       "    <tr>\n",
       "      <th>12</th>\n",
       "      <td>BES Inc mplete</td>\n",
       "      <td>153</td>\n",
       "    </tr>\n",
       "    <tr>\n",
       "      <th>13</th>\n",
       "      <td>FOUR SaintOz</td>\n",
       "      <td>152</td>\n",
       "    </tr>\n",
       "    <tr>\n",
       "      <th>14</th>\n",
       "      <td>BEE Itachi</td>\n",
       "      <td>149</td>\n",
       "    </tr>\n",
       "    <tr>\n",
       "      <th>15</th>\n",
       "      <td>KDA Wenked</td>\n",
       "      <td>148</td>\n",
       "    </tr>\n",
       "    <tr>\n",
       "      <th>16</th>\n",
       "      <td>FOUR Jhin</td>\n",
       "      <td>147</td>\n",
       "    </tr>\n",
       "    <tr>\n",
       "      <th>17</th>\n",
       "      <td>Felipeanjos</td>\n",
       "      <td>143</td>\n",
       "    </tr>\n",
       "    <tr>\n",
       "      <th>18</th>\n",
       "      <td>PedroBanana</td>\n",
       "      <td>142</td>\n",
       "    </tr>\n",
       "    <tr>\n",
       "      <th>19</th>\n",
       "      <td>FOUR Koke</td>\n",
       "      <td>139</td>\n",
       "    </tr>\n",
       "    <tr>\n",
       "      <th>20</th>\n",
       "      <td>TFX D klein</td>\n",
       "      <td>138</td>\n",
       "    </tr>\n",
       "    <tr>\n",
       "      <th>21</th>\n",
       "      <td>BEE Soft</td>\n",
       "      <td>138</td>\n",
       "    </tr>\n",
       "    <tr>\n",
       "      <th>22</th>\n",
       "      <td>JosneyQT</td>\n",
       "      <td>133</td>\n",
       "    </tr>\n",
       "    <tr>\n",
       "      <th>23</th>\n",
       "      <td>Erith</td>\n",
       "      <td>133</td>\n",
       "    </tr>\n",
       "    <tr>\n",
       "      <th>24</th>\n",
       "      <td>vovô nuco</td>\n",
       "      <td>130</td>\n",
       "    </tr>\n",
       "    <tr>\n",
       "      <th>25</th>\n",
       "      <td>KDA ConsTanTine</td>\n",
       "      <td>128</td>\n",
       "    </tr>\n",
       "    <tr>\n",
       "      <th>26</th>\n",
       "      <td>EMS Sartii</td>\n",
       "      <td>128</td>\n",
       "    </tr>\n",
       "    <tr>\n",
       "      <th>27</th>\n",
       "      <td>D Pazzini</td>\n",
       "      <td>127</td>\n",
       "    </tr>\n",
       "    <tr>\n",
       "      <th>28</th>\n",
       "      <td>NDL Carlão</td>\n",
       "      <td>124</td>\n",
       "    </tr>\n",
       "    <tr>\n",
       "      <th>29</th>\n",
       "      <td>FOUR Steps Days</td>\n",
       "      <td>124</td>\n",
       "    </tr>\n",
       "    <tr>\n",
       "      <th>30</th>\n",
       "      <td>The Nextt</td>\n",
       "      <td>123</td>\n",
       "    </tr>\n",
       "    <tr>\n",
       "      <th>31</th>\n",
       "      <td>Faret</td>\n",
       "      <td>120</td>\n",
       "    </tr>\n",
       "    <tr>\n",
       "      <th>32</th>\n",
       "      <td>Godi</td>\n",
       "      <td>116</td>\n",
       "    </tr>\n",
       "    <tr>\n",
       "      <th>33</th>\n",
       "      <td>Kazzumii</td>\n",
       "      <td>116</td>\n",
       "    </tr>\n",
       "    <tr>\n",
       "      <th>34</th>\n",
       "      <td>F 0 J O</td>\n",
       "      <td>112</td>\n",
       "    </tr>\n",
       "    <tr>\n",
       "      <th>35</th>\n",
       "      <td>TMT Sneaky1</td>\n",
       "      <td>112</td>\n",
       "    </tr>\n",
       "    <tr>\n",
       "      <th>36</th>\n",
       "      <td>perfect comp tft</td>\n",
       "      <td>109</td>\n",
       "    </tr>\n",
       "    <tr>\n",
       "      <th>37</th>\n",
       "      <td>Dino Lothbrok</td>\n",
       "      <td>108</td>\n",
       "    </tr>\n",
       "    <tr>\n",
       "      <th>38</th>\n",
       "      <td>Senhor Mindua</td>\n",
       "      <td>103</td>\n",
       "    </tr>\n",
       "    <tr>\n",
       "      <th>39</th>\n",
       "      <td>TchxuunaiY</td>\n",
       "      <td>102</td>\n",
       "    </tr>\n",
       "  </tbody>\n",
       "</table>\n",
       "</div>"
      ],
      "text/plain": [
       "                Nick  Pontos\n",
       "0       BES Midor1ya     182\n",
       "1          BES Toddy     173\n",
       "2   BEE Xiellendario     166\n",
       "3       BEE Phelpz13     164\n",
       "4           TMT Xaue     163\n",
       "5      Miguel Arkjow     163\n",
       "6           BES Vipi     162\n",
       "7         FOUR Bieul     156\n",
       "8         vMetangTTV     156\n",
       "9             zzhcet     155\n",
       "10       KDA Guiczar     155\n",
       "11   Highroller Bnas     154\n",
       "12    BES Inc mplete     153\n",
       "13      FOUR SaintOz     152\n",
       "14        BEE Itachi     149\n",
       "15        KDA Wenked     148\n",
       "16         FOUR Jhin     147\n",
       "17       Felipeanjos     143\n",
       "18       PedroBanana     142\n",
       "19         FOUR Koke     139\n",
       "20       TFX D klein     138\n",
       "21          BEE Soft     138\n",
       "22          JosneyQT     133\n",
       "23             Erith     133\n",
       "24         vovô nuco     130\n",
       "25   KDA ConsTanTine     128\n",
       "26        EMS Sartii     128\n",
       "27         D Pazzini     127\n",
       "28        NDL Carlão     124\n",
       "29   FOUR Steps Days     124\n",
       "30         The Nextt     123\n",
       "31             Faret     120\n",
       "32              Godi     116\n",
       "33          Kazzumii     116\n",
       "34           F 0 J O     112\n",
       "35       TMT Sneaky1     112\n",
       "36  perfect comp tft     109\n",
       "37     Dino Lothbrok     108\n",
       "38     Senhor Mindua     103\n",
       "39        TchxuunaiY     102"
      ]
     },
     "execution_count": 3,
     "metadata": {},
     "output_type": "execute_result"
    }
   ],
   "source": [
    "rdd1"
   ]
  },
  {
   "cell_type": "code",
   "execution_count": 4,
   "metadata": {},
   "outputs": [],
   "source": [
    "rdd1.index+=1"
   ]
  },
  {
   "cell_type": "code",
   "execution_count": 5,
   "metadata": {},
   "outputs": [],
   "source": [
    "# rdd1.drop('Unnamed: 0',axis=1,inplace=True)"
   ]
  },
  {
   "cell_type": "code",
   "execution_count": 6,
   "metadata": {},
   "outputs": [
    {
     "data": {
      "text/html": [
       "<div>\n",
       "<style scoped>\n",
       "    .dataframe tbody tr th:only-of-type {\n",
       "        vertical-align: middle;\n",
       "    }\n",
       "\n",
       "    .dataframe tbody tr th {\n",
       "        vertical-align: top;\n",
       "    }\n",
       "\n",
       "    .dataframe thead th {\n",
       "        text-align: right;\n",
       "    }\n",
       "</style>\n",
       "<table border=\"1\" class=\"dataframe\">\n",
       "  <thead>\n",
       "    <tr style=\"text-align: right;\">\n",
       "      <th></th>\n",
       "      <th>Nick</th>\n",
       "      <th>Pontos</th>\n",
       "    </tr>\n",
       "  </thead>\n",
       "  <tbody>\n",
       "    <tr>\n",
       "      <th>1</th>\n",
       "      <td>BES Midor1ya</td>\n",
       "      <td>182</td>\n",
       "    </tr>\n",
       "    <tr>\n",
       "      <th>2</th>\n",
       "      <td>BES Toddy</td>\n",
       "      <td>173</td>\n",
       "    </tr>\n",
       "    <tr>\n",
       "      <th>3</th>\n",
       "      <td>BEE Xiellendario</td>\n",
       "      <td>166</td>\n",
       "    </tr>\n",
       "    <tr>\n",
       "      <th>4</th>\n",
       "      <td>BEE Phelpz13</td>\n",
       "      <td>164</td>\n",
       "    </tr>\n",
       "    <tr>\n",
       "      <th>5</th>\n",
       "      <td>TMT Xaue</td>\n",
       "      <td>163</td>\n",
       "    </tr>\n",
       "    <tr>\n",
       "      <th>6</th>\n",
       "      <td>Miguel Arkjow</td>\n",
       "      <td>163</td>\n",
       "    </tr>\n",
       "    <tr>\n",
       "      <th>7</th>\n",
       "      <td>BES Vipi</td>\n",
       "      <td>162</td>\n",
       "    </tr>\n",
       "    <tr>\n",
       "      <th>8</th>\n",
       "      <td>FOUR Bieul</td>\n",
       "      <td>156</td>\n",
       "    </tr>\n",
       "    <tr>\n",
       "      <th>9</th>\n",
       "      <td>vMetangTTV</td>\n",
       "      <td>156</td>\n",
       "    </tr>\n",
       "    <tr>\n",
       "      <th>10</th>\n",
       "      <td>zzhcet</td>\n",
       "      <td>155</td>\n",
       "    </tr>\n",
       "    <tr>\n",
       "      <th>11</th>\n",
       "      <td>KDA Guiczar</td>\n",
       "      <td>155</td>\n",
       "    </tr>\n",
       "    <tr>\n",
       "      <th>12</th>\n",
       "      <td>Highroller Bnas</td>\n",
       "      <td>154</td>\n",
       "    </tr>\n",
       "    <tr>\n",
       "      <th>13</th>\n",
       "      <td>BES Inc mplete</td>\n",
       "      <td>153</td>\n",
       "    </tr>\n",
       "    <tr>\n",
       "      <th>14</th>\n",
       "      <td>FOUR SaintOz</td>\n",
       "      <td>152</td>\n",
       "    </tr>\n",
       "    <tr>\n",
       "      <th>15</th>\n",
       "      <td>BEE Itachi</td>\n",
       "      <td>149</td>\n",
       "    </tr>\n",
       "    <tr>\n",
       "      <th>16</th>\n",
       "      <td>KDA Wenked</td>\n",
       "      <td>148</td>\n",
       "    </tr>\n",
       "    <tr>\n",
       "      <th>17</th>\n",
       "      <td>FOUR Jhin</td>\n",
       "      <td>147</td>\n",
       "    </tr>\n",
       "    <tr>\n",
       "      <th>18</th>\n",
       "      <td>Felipeanjos</td>\n",
       "      <td>143</td>\n",
       "    </tr>\n",
       "    <tr>\n",
       "      <th>19</th>\n",
       "      <td>PedroBanana</td>\n",
       "      <td>142</td>\n",
       "    </tr>\n",
       "    <tr>\n",
       "      <th>20</th>\n",
       "      <td>FOUR Koke</td>\n",
       "      <td>139</td>\n",
       "    </tr>\n",
       "    <tr>\n",
       "      <th>21</th>\n",
       "      <td>TFX D klein</td>\n",
       "      <td>138</td>\n",
       "    </tr>\n",
       "    <tr>\n",
       "      <th>22</th>\n",
       "      <td>BEE Soft</td>\n",
       "      <td>138</td>\n",
       "    </tr>\n",
       "    <tr>\n",
       "      <th>23</th>\n",
       "      <td>JosneyQT</td>\n",
       "      <td>133</td>\n",
       "    </tr>\n",
       "    <tr>\n",
       "      <th>24</th>\n",
       "      <td>Erith</td>\n",
       "      <td>133</td>\n",
       "    </tr>\n",
       "    <tr>\n",
       "      <th>25</th>\n",
       "      <td>vovô nuco</td>\n",
       "      <td>130</td>\n",
       "    </tr>\n",
       "    <tr>\n",
       "      <th>26</th>\n",
       "      <td>KDA ConsTanTine</td>\n",
       "      <td>128</td>\n",
       "    </tr>\n",
       "    <tr>\n",
       "      <th>27</th>\n",
       "      <td>EMS Sartii</td>\n",
       "      <td>128</td>\n",
       "    </tr>\n",
       "    <tr>\n",
       "      <th>28</th>\n",
       "      <td>D Pazzini</td>\n",
       "      <td>127</td>\n",
       "    </tr>\n",
       "    <tr>\n",
       "      <th>29</th>\n",
       "      <td>NDL Carlão</td>\n",
       "      <td>124</td>\n",
       "    </tr>\n",
       "    <tr>\n",
       "      <th>30</th>\n",
       "      <td>FOUR Steps Days</td>\n",
       "      <td>124</td>\n",
       "    </tr>\n",
       "    <tr>\n",
       "      <th>31</th>\n",
       "      <td>The Nextt</td>\n",
       "      <td>123</td>\n",
       "    </tr>\n",
       "    <tr>\n",
       "      <th>32</th>\n",
       "      <td>Faret</td>\n",
       "      <td>120</td>\n",
       "    </tr>\n",
       "    <tr>\n",
       "      <th>33</th>\n",
       "      <td>Godi</td>\n",
       "      <td>116</td>\n",
       "    </tr>\n",
       "    <tr>\n",
       "      <th>34</th>\n",
       "      <td>Kazzumii</td>\n",
       "      <td>116</td>\n",
       "    </tr>\n",
       "    <tr>\n",
       "      <th>35</th>\n",
       "      <td>F 0 J O</td>\n",
       "      <td>112</td>\n",
       "    </tr>\n",
       "    <tr>\n",
       "      <th>36</th>\n",
       "      <td>TMT Sneaky1</td>\n",
       "      <td>112</td>\n",
       "    </tr>\n",
       "    <tr>\n",
       "      <th>37</th>\n",
       "      <td>perfect comp tft</td>\n",
       "      <td>109</td>\n",
       "    </tr>\n",
       "    <tr>\n",
       "      <th>38</th>\n",
       "      <td>Dino Lothbrok</td>\n",
       "      <td>108</td>\n",
       "    </tr>\n",
       "    <tr>\n",
       "      <th>39</th>\n",
       "      <td>Senhor Mindua</td>\n",
       "      <td>103</td>\n",
       "    </tr>\n",
       "    <tr>\n",
       "      <th>40</th>\n",
       "      <td>TchxuunaiY</td>\n",
       "      <td>102</td>\n",
       "    </tr>\n",
       "  </tbody>\n",
       "</table>\n",
       "</div>"
      ],
      "text/plain": [
       "                Nick  Pontos\n",
       "1       BES Midor1ya     182\n",
       "2          BES Toddy     173\n",
       "3   BEE Xiellendario     166\n",
       "4       BEE Phelpz13     164\n",
       "5           TMT Xaue     163\n",
       "6      Miguel Arkjow     163\n",
       "7           BES Vipi     162\n",
       "8         FOUR Bieul     156\n",
       "9         vMetangTTV     156\n",
       "10            zzhcet     155\n",
       "11       KDA Guiczar     155\n",
       "12   Highroller Bnas     154\n",
       "13    BES Inc mplete     153\n",
       "14      FOUR SaintOz     152\n",
       "15        BEE Itachi     149\n",
       "16        KDA Wenked     148\n",
       "17         FOUR Jhin     147\n",
       "18       Felipeanjos     143\n",
       "19       PedroBanana     142\n",
       "20         FOUR Koke     139\n",
       "21       TFX D klein     138\n",
       "22          BEE Soft     138\n",
       "23          JosneyQT     133\n",
       "24             Erith     133\n",
       "25         vovô nuco     130\n",
       "26   KDA ConsTanTine     128\n",
       "27        EMS Sartii     128\n",
       "28         D Pazzini     127\n",
       "29        NDL Carlão     124\n",
       "30   FOUR Steps Days     124\n",
       "31         The Nextt     123\n",
       "32             Faret     120\n",
       "33              Godi     116\n",
       "34          Kazzumii     116\n",
       "35           F 0 J O     112\n",
       "36       TMT Sneaky1     112\n",
       "37  perfect comp tft     109\n",
       "38     Dino Lothbrok     108\n",
       "39     Senhor Mindua     103\n",
       "40        TchxuunaiY     102"
      ]
     },
     "execution_count": 6,
     "metadata": {},
     "output_type": "execute_result"
    }
   ],
   "source": [
    "rdd1"
   ]
  },
  {
   "cell_type": "code",
   "execution_count": 7,
   "metadata": {},
   "outputs": [],
   "source": [
    "np_j1=np.array([1,10,15,20,25,30,35,40])\n",
    "np_j2=np.array([2,9,14,19,24,29,34,39])\n",
    "np_j3=np.array([3,8,13,18,23,28,33,38])\n",
    "np_j4=np.array([4,7,12,17,22,27,32,37])\n",
    "np_j5=np.array([5,6,11,16,21,26,31,36])\n",
    "# np_j6=np.array([6,7,13,19,25,31,37,43])\n"
   ]
  },
  {
   "cell_type": "code",
   "execution_count": 31,
   "metadata": {},
   "outputs": [
    {
     "name": "stdout",
     "output_type": "stream",
     "text": [
      "[ 1 12 20 28 36 44]\n",
      "[ 2 11 19 27 35 43]\n",
      "[ 3 10 18 26 34 42]\n",
      "[ 4  9 17 25 33 41]\n",
      "[ 5  8 16 24 32 40 48]\n",
      "[ 6  7 15 23 31 39 47]\n"
     ]
    }
   ],
   "source": [
    "# np_j1=np.arange(12,49,8)\n",
    "# np_j1=np.append(np_j1,1)\n",
    "# np_j1=np.sort(np_j1)\n",
    "# print(np_j1)\n",
    "\n",
    "# np_j2=np.arange(11,49,8)\n",
    "# np_j2=np.append(np_j2,2)\n",
    "# np_j2=np.sort(np_j2)\n",
    "# print(np_j2)\n",
    "\n",
    "\n",
    "# np_j3=np.arange(10,49,8)\n",
    "# np_j3=np.append(np_j3,3)\n",
    "# np_j3=np.sort(np_j3)\n",
    "# print(np_j3)\n",
    "\n",
    "# np_j4=np.arange(9,49,8)\n",
    "# np_j4=np.append(np_j4,4)\n",
    "# np_j4=np.sort(np_j4)\n",
    "# print(np_j4)\n",
    "\n",
    "# np_j5=np.arange(8,49,8)\n",
    "# np_j5=np.append(np_j5,5)\n",
    "# np_j5=np.sort(np_j5)\n",
    "# print(np_j5)\n",
    "\n",
    "# np_j6=np.arange(7,49,8)\n",
    "# np_j6=np.append(np_j6,6)\n",
    "# np_j6=np.sort(np_j6)\n",
    "# print(np_j6)\n",
    "\n",
    "\n",
    "# # np_j7=np.arange(8,49,8)\n",
    "# # np_j7=np.append(np_j7,7)\n",
    "# # np_j7=np.sort(np_j7)\n",
    "# # print(np_j7)\n",
    "\n",
    "# # np_j8=np.arange(7,49,8)\n",
    "# # np_j8=np.append(np_j8,8)\n",
    "# # np_j8=np.sort(np_j8)\n",
    "# # print(np_j8)\n",
    "\n",
    "\n",
    "# # np_j2=np.append(np_j2,np_j8[-1])\n",
    "# # np_j3=np.append(np_j3,np_j8[-2])\n",
    "# # np_j4=np.append(np_j4,np_j8[-3])\n",
    "# # np_j5=np.append(np_j5,np_j8[-4])\n",
    "# # np_j6=np.append(np_j6,np_j8[-5])\n",
    "# # np_j7=np.append(np_j7,np_j8[-6])\n"
   ]
  },
  {
   "cell_type": "code",
   "execution_count": 9,
   "metadata": {},
   "outputs": [],
   "source": [
    "def shuffle(np_j1,np_j2,np_j3,np_j4,np_j5,df1):\n",
    "    lista=[1,1,1,1,1,1,1,1]\n",
    "    g1=df1.iloc[np_j1-lista]\n",
    "    g2=df1.iloc[np_j2-lista]\n",
    "    g3=df1.iloc[np_j3-lista]\n",
    "    g4=df1.iloc[np_j4-lista]\n",
    "    g5=df1.iloc[np_j5-lista]\n",
    "    # g6=df1.iloc[np_j6-lista]\n",
    "    # g7=df1.iloc[np_j7-lista]\n",
    "    \n",
    "    return g1,g2,g3,g4,g5\n",
    "\n",
    "g1,g2,g3,g4,g5=shuffle(np_j1,np_j2,np_j3,np_j4,np_j5,rdd1)"
   ]
  },
  {
   "cell_type": "code",
   "execution_count": null,
   "metadata": {},
   "outputs": [],
   "source": [
    "g1.to_csv(f\"Rodada7_g1.csv\")\n",
    "g2.to_csv(f\"Rodada7_g2.csv\")\n",
    "g3.to_csv(f\"Rodada7_g3.csv\")\n",
    "g4.to_csv(f\"Rodada7_g4.csv\")\n",
    "g5.to_csv(f\"Rodada7_g5.csv\")\n",
    "# g6.to_csv(f\"Rodada6_g6.csv\")\n",
    "# g7.to_csv(f\"Rodada4_g7.csv\")"
   ]
  },
  {
   "cell_type": "code",
   "execution_count": 11,
   "metadata": {},
   "outputs": [],
   "source": [
    "g1.sort_values('Pontos' ,ascending=False,inplace=True)\n",
    "g2.sort_values('Pontos' ,ascending=False,inplace=True)\n",
    "g3.sort_values('Pontos' ,ascending=False,inplace=True)\n",
    "g4.sort_values('Pontos' ,ascending=False,inplace=True)\n",
    "g5.sort_values('Pontos' ,ascending=False,inplace=True)\n",
    "# g6.sort_values('Pontos' ,ascending=False,inplace=True)\n",
    "# g7.sort_values('Pontos' ,ascending=False,inplace=True)"
   ]
  },
  {
   "cell_type": "code",
   "execution_count": null,
   "metadata": {},
   "outputs": [],
   "source": [
    "g6"
   ]
  },
  {
   "cell_type": "code",
   "execution_count": null,
   "metadata": {},
   "outputs": [],
   "source": [
    "import requests"
   ]
  },
  {
   "cell_type": "code",
   "execution_count": null,
   "metadata": {},
   "outputs": [],
   "source": [
    "j1"
   ]
  },
  {
   "cell_type": "code",
   "execution_count": null,
   "metadata": {},
   "outputs": [],
   "source": [
    "nick=\"F 0 J O\""
   ]
  },
  {
   "cell_type": "code",
   "execution_count": null,
   "metadata": {},
   "outputs": [],
   "source": [
    "puuid=requests.get(f\"https://br1.api.riotgames.com/tft/summoner/v1/summoners/by-name/{nick}?api_key=RGAPI-138fd8e0-06f7-4c98-a83e-49402304c000\").json()\n",
    "    \n",
    "puuid=puuid[\"puuid\"]\n",
    "matchs=requests.get(f\"https://americas.api.riotgames.com/tft/match/v1/matches/by-puuid/{puuid}/ids?count=4&api_key=RGAPI-138fd8e0-06f7-4c98-a83e-49402304c000\").json()\n",
    "\n",
    "partida=requests.get(f\"https://americas.api.riotgames.com/tft/match/v1/matches/{matchs[0]}?api_key=RGAPI-138fd8e0-06f7-4c98-a83e-49402304c000\").json()\n",
    "colocacoes=[]\n",
    "for n in range(0,8):\n",
    "    colocacoes.append(partida[\"info\"][\"participants\"][n][\"placement\"])\n",
    "\n",
    "participantes=partida[\"metadata\"][\"participants\"]\n",
    "nick_p=[]\n",
    "for participante in participantes:\n",
    "    nicks=requests.get(f\"https://br1.api.riotgames.com/tft/summoner/v1/summoners/by-puuid/{participante}?api_key=RGAPI-138fd8e0-06f7-4c98-a83e-49402304c000\").json()\n",
    "    nick_p.append(nicks[\"name\"])  \n",
    "# st.write(nick_p)\n",
    "\n",
    "data_tuples = list(zip(nick_p,colocacoes))\n",
    "pos=pd.DataFrame(data_tuples,columns=[\"Nick\",\"Jogo-1\"])\n",
    "# st.dataframe(pos)\n",
    "j1=j1.merge(pos,how=\"left\",on=\"Nick\")\n"
   ]
  },
  {
   "cell_type": "code",
   "execution_count": null,
   "metadata": {},
   "outputs": [],
   "source": [
    "data_tuples"
   ]
  },
  {
   "cell_type": "code",
   "execution_count": null,
   "metadata": {},
   "outputs": [],
   "source": [
    "conv_dict=dict({1:10,2:8,3:7,4:6,5:4,6:3,7:2,8:1})"
   ]
  },
  {
   "cell_type": "code",
   "execution_count": null,
   "metadata": {},
   "outputs": [],
   "source": [
    "j1"
   ]
  },
  {
   "cell_type": "code",
   "execution_count": null,
   "metadata": {},
   "outputs": [],
   "source": [
    "j1.replace({\"Jogo-1\":conv_dict})"
   ]
  },
  {
   "cell_type": "code",
   "execution_count": null,
   "metadata": {},
   "outputs": [],
   "source": [
    "data_tuples[5][1]"
   ]
  },
  {
   "cell_type": "code",
   "execution_count": null,
   "metadata": {},
   "outputs": [],
   "source": [
    "for n,x in enumerate(data_tuples):\n",
    "    print(n)"
   ]
  },
  {
   "cell_type": "code",
   "execution_count": null,
   "metadata": {},
   "outputs": [],
   "source": [
    "for n,x in enumerate(data_tuples):\n",
    "    if data_tuples[n][1] == 1:\n",
    "        data_tuples[n][1]=10\n",
    "    elif data_tuples[n][1] == 2:\n",
    "        data_tuples[n][1]=8\n",
    "    elif data_tuples[n][1] == 3:\n",
    "        data_tuples[n][1]=7\n",
    "    elif data_tuples[n][1] == 4:\n",
    "        data_tuples[n][1]=6\n",
    "    elif data_tuples[n][1] == 5:\n",
    "        data_tuples[n][1]=4\n",
    "    elif data_tuples[n][1] == 6:\n",
    "        data_tuples[n][1]=3\n",
    "    elif data_tuples[n][1] == 7:\n",
    "        data_tuples[n][1]=2\n",
    "    else:\n",
    "        data_tuples[n][1]=1\n",
    "    \n",
    "    \n",
    "    \n",
    "    "
   ]
  },
  {
   "cell_type": "code",
   "execution_count": null,
   "metadata": {},
   "outputs": [],
   "source": []
  }
 ],
 "metadata": {
  "interpreter": {
   "hash": "16f8755b6db9cd6f3471dde68966196c6b620b8786bc144806187fd938d2d870"
  },
  "kernelspec": {
   "display_name": "Python 3.9.7 ('base')",
   "language": "python",
   "name": "python3"
  },
  "language_info": {
   "codemirror_mode": {
    "name": "ipython",
    "version": 3
   },
   "file_extension": ".py",
   "mimetype": "text/x-python",
   "name": "python",
   "nbconvert_exporter": "python",
   "pygments_lexer": "ipython3",
   "version": "3.9.7"
  },
  "orig_nbformat": 4
 },
 "nbformat": 4,
 "nbformat_minor": 2
}
